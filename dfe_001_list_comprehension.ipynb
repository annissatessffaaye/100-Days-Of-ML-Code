{
  "nbformat": 4,
  "nbformat_minor": 0,
  "metadata": {
    "colab": {
      "name": "dfe 001.ipynb",
      "provenance": [],
      "include_colab_link": true
    },
    "kernelspec": {
      "name": "python3",
      "display_name": "Python 3"
    },
    "language_info": {
      "name": "python"
    }
  },
  "cells": [
    {
      "cell_type": "markdown",
      "metadata": {
        "id": "view-in-github",
        "colab_type": "text"
      },
      "source": [
        "<a href=\"https://colab.research.google.com/github/annissatessffaaye/100-Days-Of-ML-Code/blob/master/dfe_001_list_comprehension.ipynb\" target=\"_parent\"><img src=\"https://colab.research.google.com/assets/colab-badge.svg\" alt=\"Open In Colab\"/></a>"
      ]
    },
    {
      "cell_type": "code",
      "metadata": {
        "id": "5NidktJcaOY7"
      },
      "source": [
        "# Series and Propagation \n",
        "# 1 2 3 4 5 ? = 6 -> ARITHMETIC \n",
        "# 2 4 8 16 32 ? = 64-> Geometric series \n",
        "# harmonic series, \n",
        "# Temp->\n",
        "# 10(today) 9(yester) 8 (day-before)\n",
        "# tomorrow=? 11, day-after=12... \n",
        "# 10, 8, 9 , 10, 9, 8\n"
      ],
      "execution_count": 1,
      "outputs": []
    },
    {
      "cell_type": "code",
      "metadata": {
        "id": "bEycYUKKciPN"
      },
      "source": [
        "# series generated, transformed, converted to same units!\n"
      ],
      "execution_count": null,
      "outputs": []
    },
    {
      "cell_type": "code",
      "metadata": {
        "colab": {
          "base_uri": "https://localhost:8080/"
        },
        "id": "Ktvf3n3Zcohg",
        "outputId": "67f32510-e4c8-42b7-ae5f-d2dcaf4c9344"
      },
      "source": [
        "blah = [10,20,30,40,50]\n",
        "#\n",
        "# result = [11,21,31,41,51]\n",
        "blah2 = []\n",
        "print(blah2)\n",
        "for element in blah:\n",
        "  newresult = element + 1\n",
        "  blah2.append(newresult)\n",
        "  print('****')\n",
        "  print(blah2)\n",
        "\n"
      ],
      "execution_count": 2,
      "outputs": [
        {
          "output_type": "stream",
          "name": "stdout",
          "text": [
            "[]\n",
            "****\n",
            "[11]\n",
            "****\n",
            "[11, 21]\n",
            "****\n",
            "[11, 21, 31]\n",
            "****\n",
            "[11, 21, 31, 41]\n",
            "****\n",
            "[11, 21, 31, 41, 51]\n"
          ]
        }
      ]
    },
    {
      "cell_type": "code",
      "metadata": {
        "colab": {
          "base_uri": "https://localhost:8080/"
        },
        "id": "a8Uz59gLdI3Y",
        "outputId": "118aaea0-b4d2-4b44-b455-f2f2539cdbac"
      },
      "source": [
        "a = [1,2,3,4,5]\n",
        "result = []\n",
        "for b in a:\n",
        "  newresult = b*b\n",
        "  result.append(newresult)\n",
        "\n",
        "print(result)\n",
        "  "
      ],
      "execution_count": 3,
      "outputs": [
        {
          "output_type": "stream",
          "name": "stdout",
          "text": [
            "[1, 4, 9, 16, 25]\n"
          ]
        }
      ]
    },
    {
      "cell_type": "code",
      "metadata": {
        "colab": {
          "base_uri": "https://localhost:8080/"
        },
        "id": "FJQNzCISe_xe",
        "outputId": "31b3e0cd-34ac-41db-d65a-ff730093a3be"
      },
      "source": [
        "a= [1,2,3,4,5]\n",
        "\n",
        "# List COMPREHENSIONS allow US to generate SERIES or create transformations\n",
        "# on top of series!\n",
        "\n",
        "result1 = [element+1 for element in a ]\n",
        "result2 = [element*element for element in a]\n",
        "print(result1)\n",
        "print(result2)"
      ],
      "execution_count": 4,
      "outputs": [
        {
          "output_type": "stream",
          "name": "stdout",
          "text": [
            "[2, 3, 4, 5, 6]\n",
            "[1, 4, 9, 16, 25]\n"
          ]
        }
      ]
    },
    {
      "cell_type": "code",
      "metadata": {
        "id": "MtsDBMZ_f7C-",
        "colab": {
          "base_uri": "https://localhost:8080/"
        },
        "outputId": "eef9ce5c-610a-45ce-bfc4-575d2550b3ae"
      },
      "source": [
        "mydata = [10,20,30,40,50]\n",
        "# result = [5,10,15,20,25]\n",
        "\n",
        "result1=[int(element/2) for element in mydata]\n",
        "print (result1)"
      ],
      "execution_count": 9,
      "outputs": [
        {
          "output_type": "stream",
          "name": "stdout",
          "text": [
            "[5, 10, 15, 20, 25]\n"
          ]
        }
      ]
    }
  ]
}